{
 "cells": [
  {
   "cell_type": "code",
   "execution_count": 1,
   "id": "8b6c4fea",
   "metadata": {},
   "outputs": [
    {
     "data": {
      "text/plain": [
       "{1, 2, 3, 4, 5}"
      ]
     },
     "execution_count": 1,
     "metadata": {},
     "output_type": "execute_result"
    }
   ],
   "source": [
    "my_set={1,2,3,4,5}\n",
    "my_set"
   ]
  },
  {
   "cell_type": "code",
   "execution_count": 2,
   "id": "bfbc70d7",
   "metadata": {},
   "outputs": [
    {
     "data": {
      "text/plain": [
       "{11, 2, 3.6, 4, 5, 'Hello'}"
      ]
     },
     "execution_count": 2,
     "metadata": {},
     "output_type": "execute_result"
    }
   ],
   "source": [
    "my_set={11,2,3.6,4,5,\"Hello\"}\n",
    "my_set"
   ]
  },
  {
   "cell_type": "code",
   "execution_count": 3,
   "id": "84dc6c0b",
   "metadata": {},
   "outputs": [
    {
     "data": {
      "text/plain": [
       "{('Hi', 'Hello'), (1, 2), 2.5}"
      ]
     },
     "execution_count": 3,
     "metadata": {},
     "output_type": "execute_result"
    }
   ],
   "source": [
    "my_set={2.5,(1,2),(\"Hi\",\"Hello\")}\n",
    "my_set"
   ]
  },
  {
   "cell_type": "markdown",
   "id": "0fdc79b5",
   "metadata": {},
   "source": [
    "##### Heterogenous"
   ]
  },
  {
   "cell_type": "code",
   "execution_count": 5,
   "id": "b44b6ad8",
   "metadata": {},
   "outputs": [
    {
     "data": {
      "text/plain": [
       "{1, 2, 3, 5, 7}"
      ]
     },
     "execution_count": 5,
     "metadata": {},
     "output_type": "execute_result"
    }
   ],
   "source": [
    "my_set={2,5,5,1,3,7}\n",
    "my_set"
   ]
  },
  {
   "cell_type": "code",
   "execution_count": 12,
   "id": "057ad4ee",
   "metadata": {},
   "outputs": [
    {
     "data": {
      "text/plain": [
       "{1, 10.5, 111, 2, 3, 5, 7, 'data', 'hi'}"
      ]
     },
     "execution_count": 12,
     "metadata": {},
     "output_type": "execute_result"
    }
   ],
   "source": [
    "my_set={2,5,5,1,3,7,10.5,111,\"hi\",\"data\"}\n",
    "my_set"
   ]
  },
  {
   "cell_type": "markdown",
   "id": "6ac89533",
   "metadata": {},
   "source": [
    "##### Doesnot allow duplicates\n",
    "##### arranged acc to first digit"
   ]
  },
  {
   "cell_type": "code",
   "execution_count": 13,
   "id": "5df5fe7b",
   "metadata": {},
   "outputs": [
    {
     "ename": "TypeError",
     "evalue": "'set' object is not subscriptable",
     "output_type": "error",
     "traceback": [
      "\u001b[1;31m---------------------------------------------------------------------------\u001b[0m",
      "\u001b[1;31mTypeError\u001b[0m                                 Traceback (most recent call last)",
      "\u001b[1;32mC:\\Users\\PREMAL~1\\AppData\\Local\\Temp/ipykernel_2204/2063814584.py\u001b[0m in \u001b[0;36m<module>\u001b[1;34m\u001b[0m\n\u001b[1;32m----> 1\u001b[1;33m \u001b[0mmy_set\u001b[0m\u001b[1;33m[\u001b[0m\u001b[1;36m0\u001b[0m\u001b[1;33m]\u001b[0m\u001b[1;33m\u001b[0m\u001b[1;33m\u001b[0m\u001b[0m\n\u001b[0m",
      "\u001b[1;31mTypeError\u001b[0m: 'set' object is not subscriptable"
     ]
    }
   ],
   "source": [
    "my_set[0]"
   ]
  },
  {
   "cell_type": "markdown",
   "id": "5a26d59c",
   "metadata": {},
   "source": [
    "##### Set cannot be retrieved using index"
   ]
  },
  {
   "cell_type": "code",
   "execution_count": 14,
   "id": "ad2180e5",
   "metadata": {},
   "outputs": [
    {
     "data": {
      "text/plain": [
       "{1, 10.5, 100, 111, 2, 3, 5, 7, 99, 'data', 'hi'}"
      ]
     },
     "execution_count": 14,
     "metadata": {},
     "output_type": "execute_result"
    }
   ],
   "source": [
    "my_set.update([99,100])\n",
    "my_set"
   ]
  },
  {
   "cell_type": "code",
   "execution_count": 15,
   "id": "e752e19f",
   "metadata": {},
   "outputs": [
    {
     "data": {
      "text/plain": [
       "{1, 10.5, 100, 111, 2, 3, 5, 7, 99, 'data'}"
      ]
     },
     "execution_count": 15,
     "metadata": {},
     "output_type": "execute_result"
    }
   ],
   "source": [
    "my_set.remove(\"hi\")\n",
    "my_set"
   ]
  },
  {
   "cell_type": "code",
   "execution_count": 16,
   "id": "5acce3dd",
   "metadata": {},
   "outputs": [],
   "source": [
    "my_set.discard(5)"
   ]
  },
  {
   "cell_type": "code",
   "execution_count": 17,
   "id": "75ccc28d",
   "metadata": {},
   "outputs": [
    {
     "data": {
      "text/plain": [
       "{1, 10.5, 100, 111, 2, 3, 7, 99, 'data'}"
      ]
     },
     "execution_count": 17,
     "metadata": {},
     "output_type": "execute_result"
    }
   ],
   "source": [
    "my_set"
   ]
  },
  {
   "cell_type": "code",
   "execution_count": 19,
   "id": "1f9993f2",
   "metadata": {},
   "outputs": [
    {
     "data": {
      "text/plain": [
       "{1, 10.5, 100, 111, 2, 3, 7, 99, 'data'}"
      ]
     },
     "execution_count": 19,
     "metadata": {},
     "output_type": "execute_result"
    }
   ],
   "source": [
    "my_set.discard(15)\n",
    "my_set"
   ]
  },
  {
   "cell_type": "code",
   "execution_count": 20,
   "id": "aee8663d",
   "metadata": {},
   "outputs": [
    {
     "ename": "KeyError",
     "evalue": "15",
     "output_type": "error",
     "traceback": [
      "\u001b[1;31m---------------------------------------------------------------------------\u001b[0m",
      "\u001b[1;31mKeyError\u001b[0m                                  Traceback (most recent call last)",
      "\u001b[1;32mC:\\Users\\PREMAL~1\\AppData\\Local\\Temp/ipykernel_2204/2519127270.py\u001b[0m in \u001b[0;36m<module>\u001b[1;34m\u001b[0m\n\u001b[1;32m----> 1\u001b[1;33m \u001b[0mmy_set\u001b[0m\u001b[1;33m.\u001b[0m\u001b[0mremove\u001b[0m\u001b[1;33m(\u001b[0m\u001b[1;36m15\u001b[0m\u001b[1;33m)\u001b[0m\u001b[1;33m\u001b[0m\u001b[1;33m\u001b[0m\u001b[0m\n\u001b[0m\u001b[0;32m      2\u001b[0m \u001b[0mmy_set\u001b[0m\u001b[1;33m\u001b[0m\u001b[1;33m\u001b[0m\u001b[0m\n",
      "\u001b[1;31mKeyError\u001b[0m: 15"
     ]
    }
   ],
   "source": [
    "my_set.remove(15)\n",
    "my_set"
   ]
  },
  {
   "cell_type": "code",
   "execution_count": 21,
   "id": "9203b812",
   "metadata": {},
   "outputs": [
    {
     "data": {
      "text/plain": [
       "{'D', 'S', 'a', 'c', 'e', 'i', 'n', 's', 't'}"
      ]
     },
     "execution_count": 21,
     "metadata": {},
     "output_type": "execute_result"
    }
   ],
   "source": [
    "my_set=set(\"DatasScience\")\n",
    "my_set"
   ]
  },
  {
   "cell_type": "code",
   "execution_count": 22,
   "id": "05f2f068",
   "metadata": {},
   "outputs": [
    {
     "data": {
      "text/plain": [
       "{'N', 'P', 'T', 'Y', 'h', 'o'}"
      ]
     },
     "execution_count": 22,
     "metadata": {},
     "output_type": "execute_result"
    }
   ],
   "source": [
    "my_set=set(\"PYThoN\")\n",
    "my_set"
   ]
  },
  {
   "cell_type": "code",
   "execution_count": 27,
   "id": "cd25de76",
   "metadata": {},
   "outputs": [
    {
     "data": {
      "text/plain": [
       "'o'"
      ]
     },
     "execution_count": 27,
     "metadata": {},
     "output_type": "execute_result"
    }
   ],
   "source": [
    "my_set.pop()"
   ]
  },
  {
   "cell_type": "code",
   "execution_count": 28,
   "id": "083c40b8",
   "metadata": {},
   "outputs": [],
   "source": [
    "my_set.clear()"
   ]
  },
  {
   "cell_type": "code",
   "execution_count": 29,
   "id": "1ce05c0e",
   "metadata": {},
   "outputs": [
    {
     "data": {
      "text/plain": [
       "set()"
      ]
     },
     "execution_count": 29,
     "metadata": {},
     "output_type": "execute_result"
    }
   ],
   "source": [
    "my_set"
   ]
  },
  {
   "cell_type": "code",
   "execution_count": 30,
   "id": "6fa20833",
   "metadata": {},
   "outputs": [
    {
     "name": "stdout",
     "output_type": "stream",
     "text": [
      "{1, 2, 3, 4, 5, 6, 7}\n"
     ]
    }
   ],
   "source": [
    "A={1,2,3,4,5}\n",
    "B={3,4,5,6,7}\n",
    "print(A|B)  #### Union"
   ]
  },
  {
   "cell_type": "code",
   "execution_count": 31,
   "id": "03c4b357",
   "metadata": {},
   "outputs": [
    {
     "data": {
      "text/plain": [
       "{1, 2, 3, 4, 5, 6, 7}"
      ]
     },
     "execution_count": 31,
     "metadata": {},
     "output_type": "execute_result"
    }
   ],
   "source": [
    "A.union(B)"
   ]
  },
  {
   "cell_type": "code",
   "execution_count": 32,
   "id": "10bd889c",
   "metadata": {},
   "outputs": [
    {
     "data": {
      "text/plain": [
       "{1, 2, 3, 4, 5, 6, 7}"
      ]
     },
     "execution_count": 32,
     "metadata": {},
     "output_type": "execute_result"
    }
   ],
   "source": [
    "B.union(A)"
   ]
  },
  {
   "cell_type": "code",
   "execution_count": 33,
   "id": "6a3ef335",
   "metadata": {},
   "outputs": [
    {
     "data": {
      "text/plain": [
       "{3, 4, 5}"
      ]
     },
     "execution_count": 33,
     "metadata": {},
     "output_type": "execute_result"
    }
   ],
   "source": [
    "A&B"
   ]
  },
  {
   "cell_type": "code",
   "execution_count": 34,
   "id": "8dd913f6",
   "metadata": {},
   "outputs": [
    {
     "data": {
      "text/plain": [
       "{3, 4, 5}"
      ]
     },
     "execution_count": 34,
     "metadata": {},
     "output_type": "execute_result"
    }
   ],
   "source": [
    "A.intersection(B)"
   ]
  },
  {
   "cell_type": "code",
   "execution_count": 35,
   "id": "109f7929",
   "metadata": {},
   "outputs": [
    {
     "data": {
      "text/plain": [
       "{3, 4, 5}"
      ]
     },
     "execution_count": 35,
     "metadata": {},
     "output_type": "execute_result"
    }
   ],
   "source": [
    "B.intersection(A)"
   ]
  },
  {
   "cell_type": "code",
   "execution_count": 36,
   "id": "51d33f01",
   "metadata": {},
   "outputs": [
    {
     "data": {
      "text/plain": [
       "{1, 2}"
      ]
     },
     "execution_count": 36,
     "metadata": {},
     "output_type": "execute_result"
    }
   ],
   "source": [
    "### set Difference\n",
    "A-B"
   ]
  },
  {
   "cell_type": "code",
   "execution_count": 37,
   "id": "c24eaa7b",
   "metadata": {},
   "outputs": [
    {
     "data": {
      "text/plain": [
       "{1, 2}"
      ]
     },
     "execution_count": 37,
     "metadata": {},
     "output_type": "execute_result"
    }
   ],
   "source": [
    "A.difference(B)"
   ]
  },
  {
   "cell_type": "code",
   "execution_count": 38,
   "id": "8c26c054",
   "metadata": {},
   "outputs": [
    {
     "data": {
      "text/plain": [
       "{1, 2, 6, 7}"
      ]
     },
     "execution_count": 38,
     "metadata": {},
     "output_type": "execute_result"
    }
   ],
   "source": [
    "A^B"
   ]
  },
  {
   "cell_type": "code",
   "execution_count": null,
   "id": "f539c08a",
   "metadata": {},
   "outputs": [],
   "source": []
  }
 ],
 "metadata": {
  "kernelspec": {
   "display_name": "Python 3 (ipykernel)",
   "language": "python",
   "name": "python3"
  },
  "language_info": {
   "codemirror_mode": {
    "name": "ipython",
    "version": 3
   },
   "file_extension": ".py",
   "mimetype": "text/x-python",
   "name": "python",
   "nbconvert_exporter": "python",
   "pygments_lexer": "ipython3",
   "version": "3.8.3"
  }
 },
 "nbformat": 4,
 "nbformat_minor": 5
}
