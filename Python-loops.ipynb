{
 "cells": [
  {
   "cell_type": "code",
   "execution_count": null,
   "metadata": {},
   "outputs": [],
   "source": [
    "a=20\n",
    "b=33\n",
    "if b>a:\n",
    "    print(\"b is greater than a\")"
   ]
  },
  {
   "cell_type": "code",
   "execution_count": null,
   "metadata": {},
   "outputs": [],
   "source": [
    "a=40\n",
    "b=33\n",
    "if b>a:\n",
    "    print(\"b is greater than a\")  ### Condition is False"
   ]
  },
  {
   "cell_type": "code",
   "execution_count": null,
   "metadata": {},
   "outputs": [],
   "source": [
    "a=20\n",
    "b=20\n",
    "if b>a:\n",
    "    print(\"b is greater than a\")  ### Condition is False"
   ]
  },
  {
   "cell_type": "code",
   "execution_count": null,
   "metadata": {},
   "outputs": [],
   "source": [
    "a=20\n",
    "b=20\n",
    "if b>a:\n",
    "print(\"b is greater than a\")  ### IndentationError: space for print is required\n"
   ]
  },
  {
   "cell_type": "code",
   "execution_count": null,
   "metadata": {},
   "outputs": [],
   "source": [
    "a=20\n",
    "b=20\n",
    "if b==a:\n",
    "    print(\"a is equal to b\") "
   ]
  },
  {
   "cell_type": "code",
   "execution_count": null,
   "metadata": {},
   "outputs": [],
   "source": [
    "a=20\n",
    "b=20\n",
    "if b!=a:\n",
    "    print(\"b is not equal to a\") "
   ]
  },
  {
   "cell_type": "code",
   "execution_count": null,
   "metadata": {},
   "outputs": [],
   "source": [
    "a=20\n",
    "b=30\n",
    "if a<b:\n",
    "    print(\"a is lesser than b\")"
   ]
  },
  {
   "cell_type": "code",
   "execution_count": null,
   "metadata": {},
   "outputs": [],
   "source": [
    "a=30\n",
    "b=30\n",
    "if a<=b:\n",
    "    print(\"a is lesser than or equal to b\")"
   ]
  },
  {
   "cell_type": "code",
   "execution_count": null,
   "metadata": {},
   "outputs": [],
   "source": [
    "a=30\n",
    "b=30\n",
    "if a>=b:\n",
    "    print(\"a is greater than or equal to b\")"
   ]
  },
  {
   "cell_type": "code",
   "execution_count": null,
   "metadata": {},
   "outputs": [],
   "source": [
    "a=56\n",
    "b=42\n",
    "if a>b:\n",
    "    print(\"a is greater\")\n",
    "else:\n",
    "    print(\"b is greater\")\n"
   ]
  },
  {
   "cell_type": "code",
   "execution_count": null,
   "metadata": {},
   "outputs": [],
   "source": [
    "a=42\n",
    "b=42\n",
    "if a>b:\n",
    "    print(\"a is greater\")\n",
    "else:\n",
    "    print(\"b is greater\")\n"
   ]
  },
  {
   "cell_type": "code",
   "execution_count": null,
   "metadata": {},
   "outputs": [],
   "source": [
    "a=42\n",
    "b=42\n",
    "if a==b:\n",
    "    print(\"a is equal to b\")\n",
    "else:\n",
    "    print(\"a is not equal to b\")\n"
   ]
  },
  {
   "cell_type": "code",
   "execution_count": null,
   "metadata": {},
   "outputs": [],
   "source": [
    "a=int(input(\"enter first number :\"))\n",
    "b=int(input(\"enter second number :\"))\n",
    "if a==b:\n",
    "    print(\" a and b are equal\")\n",
    "elif a>b:\n",
    "    print(\"a is greater\")\n",
    "else:\n",
    "    print('b is greater')"
   ]
  },
  {
   "cell_type": "code",
   "execution_count": null,
   "metadata": {},
   "outputs": [],
   "source": [
    "a=float(input(\"enter first number :\"))\n",
    "b=float(input(\"enter second number :\"))\n",
    "if a==b:\n",
    "    print(\" a and b are equal\")\n",
    "elif a>b:\n",
    "    print(\"a is greater\")\n",
    "else:\n",
    "    print('b is greater')"
   ]
  },
  {
   "cell_type": "code",
   "execution_count": null,
   "metadata": {},
   "outputs": [],
   "source": [
    "a=35\n",
    "b=25\n",
    "if a==b:\n",
    "    print(\" a and b are equal\")\n",
    "elif a>b:\n",
    "    print(\"a is greater\")\n",
    "else:\n",
    "    print('b is greater')"
   ]
  },
  {
   "cell_type": "code",
   "execution_count": null,
   "metadata": {},
   "outputs": [],
   "source": [
    "num=float(input('Enter first number '))\n",
    "if num>=0:\n",
    "    if num==0:\n",
    "         print('zero')\n",
    "    else:\n",
    "        print('positive')\n",
    "else:\n",
    "    print ('negative')\n"
   ]
  },
  {
   "cell_type": "code",
   "execution_count": null,
   "metadata": {},
   "outputs": [],
   "source": [
    "num=int(input(\"enter a number:\"))\n",
    "if num>0:\n",
    "  if num%5==0:\n",
    "    print(\"it is divisible by 5\")\n",
    "  else:\n",
    "    print(\"not divisible\")\n",
    "else:\n",
    "  print(\"negative number\")\n"
   ]
  },
  {
   "cell_type": "code",
   "execution_count": null,
   "metadata": {},
   "outputs": [],
   "source": [
    "age=int(input(\"Enter your age:\"))\n",
    "if age>=18:\n",
    "    if age>18 and age<=50:\n",
    "        print(\"Adult\")\n",
    "    else:\n",
    "        print(\"Senior Citizen\")\n",
    "else:\n",
    "    print(\"children\")\n"
   ]
  },
  {
   "cell_type": "code",
   "execution_count": null,
   "metadata": {},
   "outputs": [],
   "source": [
    "num=float(input('Enter first number '))\n",
    "if (num % 2)==0:\n",
    "    if num==0:\n",
    "         print('zero')\n",
    "    else:\n",
    "        print('even')\n",
    "else:\n",
    "    print ('odd')\n"
   ]
  },
  {
   "cell_type": "code",
   "execution_count": null,
   "metadata": {},
   "outputs": [],
   "source": [
    "var = 100\n",
    "if var < 200:\n",
    "   print (\"Expression value is less than 200\")\n",
    "   if var == 150:\n",
    "      print (\"Which is 150\")\n",
    "   elif var == 100:\n",
    "      print (\"Which is 100\")\n",
    "   elif var == 50:\n",
    "      print (\"Which is 50\")\n",
    "   elif var < 50:\n",
    "      print (\"Expression value is less than 50\")\n",
    "else:\n",
    "   print (\"Could not find \")\n"
   ]
  },
  {
   "cell_type": "code",
   "execution_count": null,
   "metadata": {},
   "outputs": [],
   "source": [
    "num=int(input('enter your age'))\n",
    "if num>=15:\n",
    "    if num==15:\n",
    "        print('You can drive')\n",
    "    else:\n",
    "        print('test drive required')  \n",
    "else:\n",
    "    print('Better luck next time')\n"
   ]
  },
  {
   "cell_type": "code",
   "execution_count": null,
   "metadata": {},
   "outputs": [],
   "source": [
    "a=eval(input(\"Enter first number: \"))\n",
    "\n",
    "if(a<58):\n",
    "    if(a<=21):\n",
    "        print(\"You are not eligible for working\")\n",
    "    else:\n",
    "        print(\"You are eligible for working\")\n",
    "else:\n",
    "    print(\"You are retired\")"
   ]
  },
  {
   "cell_type": "code",
   "execution_count": null,
   "metadata": {},
   "outputs": [],
   "source": [
    "var1 = 8\n",
    "var2 = 5\n",
    "if (var1 and var2) > 0 :\n",
    "   print (\"Expression value is positive\")\n",
    "   if (var1/var2>=0) :\n",
    "      print (\"divisable\")\n",
    "   elif(var1/var2 <0):\n",
    "      print (\"decimal quotient\")\n",
    "   elif (var1 and var2)==0 :\n",
    "      print (\"indivisble\")\n",
    "else:\n",
    "   print (\"ended my if for now\")\n"
   ]
  },
  {
   "cell_type": "code",
   "execution_count": null,
   "metadata": {},
   "outputs": [],
   "source": [
    "Mark=int(input ('enter your mark'))\n",
    "if Mark>=30:\n",
    "     if Mark==30:\n",
    "         print('just pass')\n",
    "     else:\n",
    "         print(' pass with good marks')\n",
    "else:\n",
    "    print('fail')\n"
   ]
  },
  {
   "cell_type": "code",
   "execution_count": null,
   "metadata": {},
   "outputs": [],
   "source": [
    "day=int(input('enter a day'))\n",
    "if day>=0:\n",
    "    if day==1:\n",
    "              print('day is monday')\n",
    "    else:\n",
    "        print('holiday')\n",
    "else:\n",
    "    print('tuesday')\n"
   ]
  },
  {
   "cell_type": "code",
   "execution_count": null,
   "metadata": {},
   "outputs": [],
   "source": [
    "x = int(input(\"enter number\"))\n",
    "if x > 10:\n",
    "  print(\"Above ten,\")\n",
    "  if x > 20:\n",
    "   print(\"and also above 20!\")\n",
    "  else:\n",
    "   print(\"but not above 20.\")\n",
    "else:\n",
    " print(\"below 10\")\n"
   ]
  },
  {
   "cell_type": "code",
   "execution_count": null,
   "metadata": {},
   "outputs": [],
   "source": [
    "a=float(input(\"enter marks:\"))\n",
    "if a>=50:\n",
    "    \n",
    "    if a==50:\n",
    "         print(\"average performance\") \n",
    "    else:\n",
    "        print(\"good performance\")\n",
    "else:\n",
    "       print(\"poor performance\")"
   ]
  },
  {
   "cell_type": "code",
   "execution_count": null,
   "metadata": {},
   "outputs": [],
   "source": [
    "a=int(input('enter first number'))\n",
    "b=int(input('enter second number'))\n",
    "if a==b:\n",
    "    print('a is equal to b')\n",
    "elif a>b:\n",
    "    print('a is greater than b')\n",
    "else:\n",
    "    print('b is greater')"
   ]
  },
  {
   "cell_type": "code",
   "execution_count": null,
   "metadata": {},
   "outputs": [],
   "source": [
    "a=189\n",
    "b=123\n",
    "c=1000\n",
    "if a>b and c>a:\n",
    "    print(\"Both are true\")"
   ]
  },
  {
   "cell_type": "code",
   "execution_count": null,
   "metadata": {},
   "outputs": [],
   "source": [
    "a=189\n",
    "b=123\n",
    "c=10\n",
    "if a>b or c>a:\n",
    "    print(\"Either a or b or c is true\")"
   ]
  },
  {
   "cell_type": "code",
   "execution_count": null,
   "metadata": {},
   "outputs": [],
   "source": [
    "a=int(input('enter a number'))\n",
    "b=int(input('enter a number'))\n",
    "c=int(input('enter a number'))\n",
    "if (a and b)/c:\n",
    "          print('a and b divisble by c')\n",
    "else:\n",
    "    print('not divisible')\n"
   ]
  },
  {
   "cell_type": "code",
   "execution_count": null,
   "metadata": {},
   "outputs": [],
   "source": [
    "a= int(input('Enter your mark')) \n",
    "b=int(input('Enter your mark')) \n",
    "c=int(input('Enter your mark')) \n",
    "if a<=b and a>=c:\n",
    "    print('pass')\n"
   ]
  },
  {
   "cell_type": "code",
   "execution_count": null,
   "metadata": {},
   "outputs": [],
   "source": [
    "a=float(input(\"enter no. :\"))\n",
    "b=float(input(\"enter no. :\"))\n",
    "c=float(input(\"enter no. :\"))\n",
    "if a>b and a>c:\n",
    "     print(\"a is greter\")\n",
    "elif b>c and b>a:\n",
    "    print(\"b is greater\")    \n",
    "else:\n",
    "     print(\"c is greater\")\n"
   ]
  },
  {
   "cell_type": "code",
   "execution_count": null,
   "metadata": {},
   "outputs": [],
   "source": [
    "x = 50\n",
    "y = 30\n",
    "if(x==10)or(y<20):\n",
    "    print(\"One or Both expressions are True\")\n",
    "else:\n",
    "    print(\"Both are False!\")"
   ]
  },
  {
   "cell_type": "code",
   "execution_count": null,
   "metadata": {},
   "outputs": [],
   "source": [
    "a=int(input(\"enter a\"))\n",
    "b=int(input(\"enter b\"))\n",
    "if (a and b ) > 0 :\n",
    "  print(\"values are positive\")\n",
    "  print(\"divide:\", a/b )\n",
    "elif b<= 0 :\n",
    "  print(\"divide by 0 error\")\n"
   ]
  },
  {
   "cell_type": "code",
   "execution_count": null,
   "metadata": {},
   "outputs": [],
   "source": [
    "a=int(input('enter a number'))\n",
    "b=int(input('enter a number'))\n",
    "c=int(input('enter a number'))\n",
    "if (a or b)/c:\n",
    "    if (a and b)/c:\n",
    "             print('both are divsible by c')\n",
    "    else:\n",
    "         print('only one is  divisible')\n",
    "else:\n",
    "    print('both are not divisible')\n"
   ]
  },
  {
   "cell_type": "code",
   "execution_count": null,
   "metadata": {},
   "outputs": [],
   "source": [
    "\n"
   ]
  },
  {
   "cell_type": "code",
   "execution_count": null,
   "metadata": {},
   "outputs": [],
   "source": [
    "a=int(input('enter first number'))\n",
    "b=int(input('enter second number'))\n",
    "c=int(input('enter third number'))\n",
    "if a!=b and a>b:\n",
    "    print('you won a bike')\n",
    "elif a<b:\n",
    "    print('50% off in Dominos')\n",
    "else:\n",
    "    print('better luck next time')\n"
   ]
  },
  {
   "cell_type": "code",
   "execution_count": null,
   "metadata": {},
   "outputs": [],
   "source": [
    "temp=float(input(\"enter temp :\"))\n",
    "if temp==20 or temp<=20:\n",
    "    print(\"coolest weather\")\n",
    "elif (temp==30)>=20 or (temp==30)>20:\n",
    "    print(\"cool weather\")\n",
    "else:\n",
    "        print(\"warm weather\")\n"
   ]
  },
  {
   "cell_type": "code",
   "execution_count": null,
   "metadata": {},
   "outputs": [],
   "source": [
    "name1=str(input(\"enter a string:\")) \n",
    "name2=str(input(\"enter a string:\"))  \n",
    "if  name1==name2:\n",
    "  print('both the strings are equal')  \n",
    "else:\n",
    "   print('strings are not equal')\n"
   ]
  },
  {
   "cell_type": "code",
   "execution_count": null,
   "metadata": {},
   "outputs": [],
   "source": [
    "if day1==\"saturday\" or day2==\"sunday\":\n",
    "    print(\"You have decodr session\")\n",
    "elif (day1==\"sunday\") or (day2==\"saturday\"):\n",
    "    print (\"You have decodr session\")\n",
    "else:\n",
    "    print(\"Go with recorded session\")"
   ]
  },
  {
   "cell_type": "code",
   "execution_count": null,
   "metadata": {},
   "outputs": [],
   "source": [
    "a = 10\n",
    "  \n",
    "if not a:\n",
    "    print(\"Boolean value of a is True\")\n",
    "  \n",
    "if not (a%3 == 0 or a%5 == 0):\n",
    "    print(\"10 is not divisible by either 3 or 5\")\n",
    "else:\n",
    "    print(\"10 is divisible by either 3 or 5\")\n"
   ]
  },
  {
   "cell_type": "code",
   "execution_count": null,
   "metadata": {},
   "outputs": [],
   "source": [
    "a=float(input(\"enter 1st no. :\"))\n",
    "b=float(input(\"enter 2nd no. :\"))\n",
    "if a==b and a>=b:\n",
    "    print(\"a is greater and \n",
    "          equal\")\n",
    "elif not(a==b and a>=b):\n",
    "    print(\"false\")\n",
    "        \n"
   ]
  },
  {
   "cell_type": "code",
   "execution_count": null,
   "metadata": {},
   "outputs": [],
   "source": [
    "str1=str(input(\"enter str1 :\"))\n",
    "str2=str1.reversed(str1)\n",
    "if str1 == str2 :\n",
    "  print(\"str1 is palindrome\")\n",
    "else :\n",
    "  print(\"str1 not palindrome\")"
   ]
  },
  {
   "cell_type": "markdown",
   "metadata": {},
   "source": [
    "### python loops"
   ]
  },
  {
   "cell_type": "code",
   "execution_count": null,
   "metadata": {},
   "outputs": [],
   "source": [
    "fruits=[\"Apple\",\"Mango\",\"Cherries\",\"Banana\"]\n",
    "for x in fruits:\n",
    "    print(x)"
   ]
  },
  {
   "cell_type": "code",
   "execution_count": null,
   "metadata": {},
   "outputs": [],
   "source": [
    "for x in \"Premalatha\":\n",
    "    print(x)"
   ]
  },
  {
   "cell_type": "code",
   "execution_count": null,
   "metadata": {},
   "outputs": [],
   "source": [
    "### break statement\n",
    "fruits=[\"Apple\",\"Mango\",\"Cherries\",\"Banana\"]\n",
    "for x in fruits:\n",
    "    print(x)\n",
    "    if x==\"Cherries\":\n",
    "        break"
   ]
  },
  {
   "cell_type": "code",
   "execution_count": null,
   "metadata": {},
   "outputs": [],
   "source": [
    "fruits=[\"Apple\",\"Mango\",\"Cherries\",\"Banana\"]\n",
    "for x in fruits:\n",
    "        if x==\"Cherries\":\n",
    "        break\n",
    "        print(x)"
   ]
  },
  {
   "cell_type": "code",
   "execution_count": null,
   "metadata": {},
   "outputs": [],
   "source": [
    "for x in range(10):\n",
    "    print(x)"
   ]
  },
  {
   "cell_type": "code",
   "execution_count": null,
   "metadata": {},
   "outputs": [],
   "source": [
    "for x in range(5,10):\n",
    "    print(x)"
   ]
  },
  {
   "cell_type": "code",
   "execution_count": null,
   "metadata": {},
   "outputs": [],
   "source": [
    "for name in\"latha\":\n",
    "    if name==\"h\":\n",
    "        break\n",
    "    print(name)\n"
   ]
  },
  {
   "cell_type": "code",
   "execution_count": 1,
   "metadata": {},
   "outputs": [
    {
     "name": "stdout",
     "output_type": "stream",
     "text": [
      "l\n",
      "a\n",
      "t\n",
      "a\n"
     ]
    }
   ],
   "source": [
    "for name in\"latha\":\n",
    "    if name==\"h\":\n",
    "        continue\n",
    "    print(name)"
   ]
  },
  {
   "cell_type": "code",
   "execution_count": 2,
   "metadata": {},
   "outputs": [
    {
     "name": "stdout",
     "output_type": "stream",
     "text": [
      "s\n",
      "a\n",
      "u\n"
     ]
    }
   ],
   "source": [
    "for name in \"saurabh\":\n",
    "    if name=='r':\n",
    "        break\n",
    "    print(name)\n"
   ]
  },
  {
   "cell_type": "code",
   "execution_count": 6,
   "metadata": {},
   "outputs": [
    {
     "name": "stdout",
     "output_type": "stream",
     "text": [
      "Paul\n",
      "Counter is 0\n",
      "Erin\n",
      "Counter is 1\n"
     ]
    }
   ],
   "source": [
    "students = [\"Paul\", \"Erin\", \"Connie\", \"Moira\"]\n",
    "\n",
    "for student in range(0, len(students)):\n",
    "    if student == 2:\n",
    "        break\n",
    "    else:\n",
    "        print(students[student])\n",
    "\n",
    "    print(\"Counter is \" + str(student))\n"
   ]
  },
  {
   "cell_type": "code",
   "execution_count": 7,
   "metadata": {},
   "outputs": [
    {
     "name": "stdout",
     "output_type": "stream",
     "text": [
      "mon\n",
      "tue\n",
      "wed\n",
      "thur\n"
     ]
    }
   ],
   "source": [
    "days=['mon','tue','wed','thur','fri','sat','sun']\n",
    "for x in days:\n",
    "    if x =='fri':\n",
    "       break\n",
    "    print(x)\n"
   ]
  },
  {
   "cell_type": "markdown",
   "metadata": {},
   "source": [
    "## while loops"
   ]
  },
  {
   "cell_type": "code",
   "execution_count": 9,
   "metadata": {},
   "outputs": [
    {
     "name": "stdout",
     "output_type": "stream",
     "text": [
      "Addition is: 120\n"
     ]
    }
   ],
   "source": [
    "num=15\n",
    "addition=0\n",
    "i=1\n",
    "while i<=num:\n",
    "    addition=addition+i\n",
    "    i=i+1\n",
    "print(\"Addition is:\",addition)"
   ]
  },
  {
   "cell_type": "markdown",
   "metadata": {},
   "source": [
    "### For loop"
   ]
  },
  {
   "cell_type": "code",
   "execution_count": 11,
   "metadata": {},
   "outputs": [
    {
     "name": "stdout",
     "output_type": "stream",
     "text": [
      "Addition is: 120\n"
     ]
    }
   ],
   "source": [
    "number=range(1,16)\n",
    "addition=0\n",
    "i=1\n",
    "for i in number:\n",
    "    addition=addition+i\n",
    "    i=i+1\n",
    "print(\"Addition is:\",addition)"
   ]
  },
  {
   "cell_type": "markdown",
   "metadata": {},
   "source": [
    "### break"
   ]
  },
  {
   "cell_type": "code",
   "execution_count": 12,
   "metadata": {},
   "outputs": [
    {
     "name": "stdout",
     "output_type": "stream",
     "text": [
      "d\n",
      "a\n",
      "t\n",
      "a\n",
      "S\n",
      "c\n",
      "i\n",
      "The for loop stopped executing\n"
     ]
    }
   ],
   "source": [
    "text=\"dataScience\"\n",
    "for letter in text:\n",
    "    if letter==\"e\":\n",
    "        break\n",
    "    print(letter)\n",
    "print(\"The for loop stopped executing\")"
   ]
  },
  {
   "cell_type": "code",
   "execution_count": 13,
   "metadata": {},
   "outputs": [
    {
     "name": "stdout",
     "output_type": "stream",
     "text": [
      "d\n",
      "a\n",
      "t\n",
      "a\n",
      "S\n",
      "c\n",
      "i\n",
      "The loop leave a space here\n",
      "n\n",
      "c\n",
      "The loop leave a space here\n"
     ]
    }
   ],
   "source": [
    "text=\"dataScience\"\n",
    "for letter in text:\n",
    "    if letter==\"e\":\n",
    "        print(\"The loop leave a space here\")\n",
    "        continue\n",
    "    print(letter)"
   ]
  },
  {
   "cell_type": "code",
   "execution_count": 14,
   "metadata": {},
   "outputs": [
    {
     "name": "stdout",
     "output_type": "stream",
     "text": [
      "Enter number of levels:5\n",
      "1 \n",
      "\n",
      "2 2 \n",
      "\n",
      "3 3 3 \n",
      "\n",
      "4 4 4 4 \n",
      "\n",
      "5 5 5 5 5 \n",
      "\n"
     ]
    }
   ],
   "source": [
    "levels=int(input(\"Enter number of levels:\"))\n",
    "for level in range(1,levels+1):\n",
    "    for num in range(level):\n",
    "        print(level,end=\" \")\n",
    "        \n",
    "    print(\"\\n\")"
   ]
  },
  {
   "cell_type": "code",
   "execution_count": 16,
   "metadata": {},
   "outputs": [
    {
     "name": "stdout",
     "output_type": "stream",
     "text": [
      "5\n",
      "1 \n",
      "2 2 \n",
      "3 3 3 \n",
      "4 4 4 4 \n",
      "5 5 5 5 5 \n"
     ]
    }
   ],
   "source": [
    "n=int(input())\n",
    "for i in range(1,n+1):\n",
    "    for j in range(i):\n",
    "        print(i,end=\" \")\n",
    "    print()\n"
   ]
  },
  {
   "cell_type": "code",
   "execution_count": 17,
   "metadata": {},
   "outputs": [
    {
     "name": "stdout",
     "output_type": "stream",
     "text": [
      "Enter number of rows: 5\n",
      "* \n",
      "\n",
      "* * \n",
      "\n",
      "* * * \n",
      "\n",
      "* * * * \n",
      "\n",
      "* * * * * \n",
      "\n"
     ]
    }
   ],
   "source": [
    "rows = int(input(\"Enter number of rows: \"))\n",
    "\n",
    "for i in range(rows):\n",
    "    for j in range(i+1):\n",
    "        print(\"* \", end=\"\")\n",
    "    print(\"\\n\")\n"
   ]
  },
  {
   "cell_type": "code",
   "execution_count": 18,
   "metadata": {},
   "outputs": [
    {
     "name": "stdout",
     "output_type": "stream",
     "text": [
      "Enter number of rows: 5\n",
      "1\n",
      "22\n",
      "333\n",
      "4444\n",
      "55555\n"
     ]
    }
   ],
   "source": [
    "n = int(input(\"Enter number of rows: \"))\n",
    "\n",
    "for i in range(1,n+1):\n",
    "    for j in range(1, i+1):\n",
    "        print(i, end=\"\")\n",
    "    print()\n"
   ]
  },
  {
   "cell_type": "code",
   "execution_count": 19,
   "metadata": {},
   "outputs": [],
   "source": [
    "def add(x, y):\n",
    "    return (x+y)\n",
    "  \n",
    "def subtract(x, y):\n",
    "    return (x-y)"
   ]
  },
  {
   "cell_type": "code",
   "execution_count": null,
   "metadata": {},
   "outputs": [],
   "source": []
  }
 ],
 "metadata": {
  "kernelspec": {
   "display_name": "Python 3 (ipykernel)",
   "language": "python",
   "name": "python3"
  },
  "language_info": {
   "codemirror_mode": {
    "name": "ipython",
    "version": 3
   },
   "file_extension": ".py",
   "mimetype": "text/x-python",
   "name": "python",
   "nbconvert_exporter": "python",
   "pygments_lexer": "ipython3",
   "version": "3.8.3"
  }
 },
 "nbformat": 4,
 "nbformat_minor": 4
}
